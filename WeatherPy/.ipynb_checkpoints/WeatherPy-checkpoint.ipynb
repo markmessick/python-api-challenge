{
 "cells": [
  {
   "cell_type": "code",
   "execution_count": 17,
   "metadata": {},
   "outputs": [],
   "source": [
    "import pandas as pd\n",
    "import matplotlib.pyplot as plt\n",
    "import requests\n",
    "import csv\n",
    "from scipy import stats\n",
    "from config1 import api_key\n",
    "import random"
   ]
  },
  {
   "cell_type": "code",
   "execution_count": 2,
   "metadata": {},
   "outputs": [],
   "source": [
    "url = \"http://api.openweathermap.org/data/2.5/weather?\"\n",
    "units = \"imperial\"\n",
    "\n",
    "query_url = f\"{url}appid={api_key}&units={units}&q=\""
   ]
  },
  {
   "cell_type": "code",
   "execution_count": 3,
   "metadata": {},
   "outputs": [
    {
     "name": "stdout",
     "output_type": "stream",
     "text": [
      "Currently processing Paris and pulling all weather data.\n",
      "Currently processing London and pulling all weather data.\n",
      "Currently processing Rome and pulling all weather data.\n",
      "Currently processing Hong Kong and pulling all weather data.\n",
      "Currently processing Bangkok and pulling all weather data.\n",
      "Currently processing New Orleans and pulling all weather data.\n",
      "Currently processing Merida and pulling all weather data.\n",
      "Currently processing Perth and pulling all weather data.\n",
      "Currently processing Manilla and pulling all weather data.\n"
     ]
    }
   ],
   "source": [
    "cities = [\"Paris\", \"London\", \"Rome\", \"Hong Kong\", \"Bangkok\", \"New Orleans\", \"Merida\", \"Perth\", \"Manilla\"]\n",
    "\n",
    "lat = []\n",
    "temp = []\n",
    "humid = []\n",
    "clouds = []\n",
    "wind = []\n",
    "\n",
    "for city in cities:\n",
    "    print(f\"Currently processing {city} and pulling all weather data.\")\n",
    "    response = requests.get(query_url + city).json()\n",
    "    lat.append(response[\"coord\"][\"lat\"])\n",
    "    temp.append(response[\"main\"][\"temp\"])\n",
    "    humid.append(response[\"main\"][\"humidity\"])\n",
    "    clouds.append(response[\"clouds\"][\"all\"])\n",
    "    wind.append(response[\"wind\"][\"speed\"])"
   ]
  },
  {
   "cell_type": "code",
   "execution_count": 4,
   "metadata": {},
   "outputs": [
    {
     "data": {
      "text/html": [
       "<div>\n",
       "<style scoped>\n",
       "    .dataframe tbody tr th:only-of-type {\n",
       "        vertical-align: middle;\n",
       "    }\n",
       "\n",
       "    .dataframe tbody tr th {\n",
       "        vertical-align: top;\n",
       "    }\n",
       "\n",
       "    .dataframe thead th {\n",
       "        text-align: right;\n",
       "    }\n",
       "</style>\n",
       "<table border=\"1\" class=\"dataframe\">\n",
       "  <thead>\n",
       "    <tr style=\"text-align: right;\">\n",
       "      <th></th>\n",
       "      <th>city</th>\n",
       "      <th>lat</th>\n",
       "      <th>temp</th>\n",
       "      <th>humidity</th>\n",
       "      <th>clouds</th>\n",
       "      <th>wind</th>\n",
       "    </tr>\n",
       "  </thead>\n",
       "  <tbody>\n",
       "    <tr>\n",
       "      <td>0</td>\n",
       "      <td>Paris</td>\n",
       "      <td>48.85</td>\n",
       "      <td>43.56</td>\n",
       "      <td>81</td>\n",
       "      <td>90</td>\n",
       "      <td>17.22</td>\n",
       "    </tr>\n",
       "    <tr>\n",
       "      <td>1</td>\n",
       "      <td>London</td>\n",
       "      <td>51.51</td>\n",
       "      <td>41.13</td>\n",
       "      <td>57</td>\n",
       "      <td>1</td>\n",
       "      <td>16.11</td>\n",
       "    </tr>\n",
       "    <tr>\n",
       "      <td>2</td>\n",
       "      <td>Rome</td>\n",
       "      <td>34.26</td>\n",
       "      <td>45.07</td>\n",
       "      <td>36</td>\n",
       "      <td>1</td>\n",
       "      <td>5.82</td>\n",
       "    </tr>\n",
       "    <tr>\n",
       "      <td>3</td>\n",
       "      <td>Hong Kong</td>\n",
       "      <td>22.29</td>\n",
       "      <td>70.41</td>\n",
       "      <td>88</td>\n",
       "      <td>20</td>\n",
       "      <td>4.70</td>\n",
       "    </tr>\n",
       "    <tr>\n",
       "      <td>4</td>\n",
       "      <td>Bangkok</td>\n",
       "      <td>13.75</td>\n",
       "      <td>80.38</td>\n",
       "      <td>88</td>\n",
       "      <td>20</td>\n",
       "      <td>9.91</td>\n",
       "    </tr>\n",
       "    <tr>\n",
       "      <td>5</td>\n",
       "      <td>New Orleans</td>\n",
       "      <td>29.95</td>\n",
       "      <td>61.86</td>\n",
       "      <td>39</td>\n",
       "      <td>1</td>\n",
       "      <td>8.05</td>\n",
       "    </tr>\n",
       "    <tr>\n",
       "      <td>6</td>\n",
       "      <td>Merida</td>\n",
       "      <td>20.97</td>\n",
       "      <td>72.75</td>\n",
       "      <td>43</td>\n",
       "      <td>5</td>\n",
       "      <td>9.17</td>\n",
       "    </tr>\n",
       "    <tr>\n",
       "      <td>7</td>\n",
       "      <td>Perth</td>\n",
       "      <td>-31.93</td>\n",
       "      <td>72.63</td>\n",
       "      <td>64</td>\n",
       "      <td>75</td>\n",
       "      <td>19.46</td>\n",
       "    </tr>\n",
       "    <tr>\n",
       "      <td>8</td>\n",
       "      <td>Manilla</td>\n",
       "      <td>14.60</td>\n",
       "      <td>80.53</td>\n",
       "      <td>69</td>\n",
       "      <td>40</td>\n",
       "      <td>8.05</td>\n",
       "    </tr>\n",
       "  </tbody>\n",
       "</table>\n",
       "</div>"
      ],
      "text/plain": [
       "          city    lat   temp  humidity  clouds   wind\n",
       "0        Paris  48.85  43.56        81      90  17.22\n",
       "1       London  51.51  41.13        57       1  16.11\n",
       "2         Rome  34.26  45.07        36       1   5.82\n",
       "3    Hong Kong  22.29  70.41        88      20   4.70\n",
       "4      Bangkok  13.75  80.38        88      20   9.91\n",
       "5  New Orleans  29.95  61.86        39       1   8.05\n",
       "6       Merida  20.97  72.75        43       5   9.17\n",
       "7        Perth -31.93  72.63        64      75  19.46\n",
       "8      Manilla  14.60  80.53        69      40   8.05"
      ]
     },
     "execution_count": 4,
     "metadata": {},
     "output_type": "execute_result"
    }
   ],
   "source": [
    "responses_dict = {\n",
    "    \"city\": cities,\n",
    "    \"lat\": lat,\n",
    "    \"temp\": temp,\n",
    "    \"humidity\": humid,\n",
    "    \"clouds\": clouds,\n",
    "    \"wind\": wind\n",
    "}\n",
    "\n",
    "weather_data = pd.DataFrame(responses_dict)\n",
    "weather_data"
   ]
  },
  {
   "cell_type": "code",
   "execution_count": 5,
   "metadata": {},
   "outputs": [],
   "source": [
    "x_axis = weather_data[\"lat\"]\n",
    "y_axis_1 = weather_data[\"temp\"]\n",
    "y_axis_2 = weather_data[\"humidity\"]\n",
    "y_axis_3 = weather_data[\"clouds\"]\n",
    "y_axis_4 = weather_data[\"wind\"]"
   ]
  },
  {
   "cell_type": "code",
   "execution_count": 6,
   "metadata": {},
   "outputs": [
    {
     "data": {
      "image/png": "[encoded data removed]",
      "text/plain": [
       "<Figure size 432x288 with 1 Axes>"
      ]
     },
     "metadata": {
      "needs_background": "light"
     },
     "output_type": "display_data"
    },
    {
     "name": "stdout",
     "output_type": "stream",
     "text": [
      "Write a sentence or two explaining what the code is and analyzing.\n"
     ]
    },
    {
     "data": {
      "image/png": "[encoded data removed]",
      "text/plain": [
       "<Figure size 432x288 with 1 Axes>"
      ]
     },
     "metadata": {
      "needs_background": "light"
     },
     "output_type": "display_data"
    },
    {
     "name": "stdout",
     "output_type": "stream",
     "text": [
      "Write a sentence or two explaining what the code is and analyzing.\n"
     ]
    },
    {
     "data": {
      "image/png": "[encoded data removed]",
      "text/plain": [
       "<Figure size 432x288 with 1 Axes>"
      ]
     },
     "metadata": {
      "needs_background": "light"
     },
     "output_type": "display_data"
    },
    {
     "name": "stdout",
     "output_type": "stream",
     "text": [
      "Write a sentence or two explaining what the code is and analyzing.\n"
     ]
    },
    {
     "data": {
      "image/png": "[encoded data removed]",
      "text/plain": [
       "<Figure size 432x288 with 1 Axes>"
      ]
     },
     "metadata": {
      "needs_background": "light"
     },
     "output_type": "display_data"
    },
    {
     "name": "stdout",
     "output_type": "stream",
     "text": [
      "Write a sentence or two explaining what the code is and analyzing.\n"
     ]
    }
   ],
   "source": [
    "plt.scatter(x_axis, y_axis_1)\n",
    "plt.xlabel(\"Latitude\")\n",
    "plt.ylabel(\"Temperature\")\n",
    "plt.show()\n",
    "\n",
    "print(f\"Write a sentence or two explaining what the code is and analyzing.\")\n",
    "\n",
    "plt.scatter(x_axis, y_axis_2)\n",
    "plt.xlabel(\"Latitude\")\n",
    "plt.ylabel(\"Humidity\")\n",
    "plt.show()\n",
    "\n",
    "print(f\"Write a sentence or two explaining what the code is and analyzing.\")\n",
    "\n",
    "plt.scatter(x_axis, y_axis_3)\n",
    "plt.xlabel(\"Latitude\")\n",
    "plt.ylabel(\"Cloudiness\")\n",
    "plt.show()\n",
    "\n",
    "print(f\"Write a sentence or two explaining what the code is and analyzing.\")\n",
    "\n",
    "plt.scatter(x_axis, y_axis_4)\n",
    "plt.xlabel(\"Latitude\")\n",
    "plt.ylabel(\"Wind Speed (MPH)\")\n",
    "plt.show()\n",
    "\n",
    "print(f\"Write a sentence or two explaining what the code is and analyzing.\")"
   ]
  },
  {
   "cell_type": "code",
   "execution_count": 7,
   "metadata": {},
   "outputs": [],
   "source": [
    "north = []\n",
    "south = []\n",
    "north_index = []\n",
    "south_index = []\n",
    "north_temps = []\n",
    "south_temps = []\n",
    "\n",
    "for lat in lat:\n",
    "    if lat > 0:\n",
    "        north.append(lat)\n",
    "        north_index.append(lat.index(lat)\n",
    "    else:\n",
    "        south.append(lat)\n",
    "\n",
    "x_axis_north = north\n",
    "x_axis_south = south"
   ]
  },
  {
   "cell_type": "code",
   "execution_count": 12,
   "metadata": {},
   "outputs": [
    {
     "data": {
      "image/png": "[encoded data removed]",
      "text/plain": [
       "<Figure size 432x288 with 1 Axes>"
      ]
     },
     "metadata": {
      "needs_background": "light"
     },
     "output_type": "display_data"
    },
    {
     "data": {
      "text/plain": [
       "0    43.56\n",
       "1    41.13\n",
       "2    45.07\n",
       "3    70.41\n",
       "4    80.38\n",
       "5    61.86\n",
       "6    72.75\n",
       "7    72.63\n",
       "8    80.53\n",
       "Name: temp, dtype: float64"
      ]
     },
     "execution_count": 12,
     "metadata": {},
     "output_type": "execute_result"
    }
   ],
   "source": [
    "(slope, intercept, rvalue, pvalue, stderr) = stats.linregress(x_axis, y_axis_1)\n",
    "regress_values_1 = x_axis * slope + intercept\n",
    "\n",
    "plt.scatter(x_axis, y_axis_1)\n",
    "plt.plot(x_axis,regress_values_1, \"r-\")\n",
    "plt.xlabel(\"Latitude\")\n",
    "plt.ylabel(\"Temperature\")\n",
    "plt.show()\n",
    "x_axis_north\n",
    "y_axis_1"
   ]
  },
  {
   "cell_type": "code",
   "execution_count": 47,
   "metadata": {},
   "outputs": [
    {
     "name": "stdout",
     "output_type": "stream",
     "text": [
      "[22, 45, 67, 208, 46, 75, 90, 2838, 38]\n"
     ]
    },
    {
     "data": {
      "text/plain": [
       "[-75, -8858, -98, -2, -805]"
      ]
     },
     "execution_count": 47,
     "metadata": {},
     "output_type": "execute_result"
    }
   ],
   "source": [
    "list_1 = [22, 45, -75, -8858, 67, -98, 208, 46, 75, 90, 2838, 38, -2, -805]\n",
    "list_2 = [10, 20, 30, 40, 50, 60, 70, 80, 90, 100, 110, 120, 130, 140]\n",
    "\n",
    "norths = []\n",
    "norths_index = []\n",
    "souths = []\n",
    "souths_index = []\n",
    "norths_temps = []\n",
    "souths_temps = []\n",
    "\n",
    "for value in list_1:\n",
    "    if value > 0:\n",
    "        norths.append(value)\n",
    "        norths_index.append(list_1.index(value))\n",
    "    else:\n",
    "        souths.append(value)\n",
    "        souths_index.append(list_1.index(value))\n",
    "\n",
    "for number in norths_index:\n",
    "    norths_temps.append(list_1[number])\n",
    "    \n",
    "for number in souths_index:\n",
    "    souths_temps.append(list_1[number])\n",
    "    \n",
    "print(norths_temps)\n",
    "souths_temps"
   ]
  },
  {
   "cell_type": "code",
   "execution_count": 32,
   "metadata": {},
   "outputs": [
    {
     "data": {
      "text/html": [
       "<div>\n",
       "<style scoped>\n",
       "    .dataframe tbody tr th:only-of-type {\n",
       "        vertical-align: middle;\n",
       "    }\n",
       "\n",
       "    .dataframe tbody tr th {\n",
       "        vertical-align: top;\n",
       "    }\n",
       "\n",
       "    .dataframe thead th {\n",
       "        text-align: right;\n",
       "    }\n",
       "</style>\n",
       "<table border=\"1\" class=\"dataframe\">\n",
       "  <thead>\n",
       "    <tr style=\"text-align: right;\">\n",
       "      <th></th>\n",
       "      <th>city</th>\n",
       "      <th>lat</th>\n",
       "      <th>temp</th>\n",
       "      <th>humidity</th>\n",
       "      <th>clouds</th>\n",
       "      <th>wind</th>\n",
       "    </tr>\n",
       "  </thead>\n",
       "  <tbody>\n",
       "    <tr>\n",
       "      <td>0</td>\n",
       "      <td>Paris</td>\n",
       "      <td>48.85</td>\n",
       "      <td>43.56</td>\n",
       "      <td>81</td>\n",
       "      <td>90</td>\n",
       "      <td>17.22</td>\n",
       "    </tr>\n",
       "    <tr>\n",
       "      <td>1</td>\n",
       "      <td>London</td>\n",
       "      <td>51.51</td>\n",
       "      <td>41.13</td>\n",
       "      <td>57</td>\n",
       "      <td>1</td>\n",
       "      <td>16.11</td>\n",
       "    </tr>\n",
       "    <tr>\n",
       "      <td>2</td>\n",
       "      <td>Rome</td>\n",
       "      <td>34.26</td>\n",
       "      <td>45.07</td>\n",
       "      <td>36</td>\n",
       "      <td>1</td>\n",
       "      <td>5.82</td>\n",
       "    </tr>\n",
       "    <tr>\n",
       "      <td>3</td>\n",
       "      <td>Hong Kong</td>\n",
       "      <td>22.29</td>\n",
       "      <td>70.41</td>\n",
       "      <td>88</td>\n",
       "      <td>20</td>\n",
       "      <td>4.70</td>\n",
       "    </tr>\n",
       "    <tr>\n",
       "      <td>4</td>\n",
       "      <td>Bangkok</td>\n",
       "      <td>13.75</td>\n",
       "      <td>80.38</td>\n",
       "      <td>88</td>\n",
       "      <td>20</td>\n",
       "      <td>9.91</td>\n",
       "    </tr>\n",
       "    <tr>\n",
       "      <td>5</td>\n",
       "      <td>New Orleans</td>\n",
       "      <td>29.95</td>\n",
       "      <td>61.86</td>\n",
       "      <td>39</td>\n",
       "      <td>1</td>\n",
       "      <td>8.05</td>\n",
       "    </tr>\n",
       "    <tr>\n",
       "      <td>6</td>\n",
       "      <td>Merida</td>\n",
       "      <td>20.97</td>\n",
       "      <td>72.75</td>\n",
       "      <td>43</td>\n",
       "      <td>5</td>\n",
       "      <td>9.17</td>\n",
       "    </tr>\n",
       "    <tr>\n",
       "      <td>7</td>\n",
       "      <td>Perth</td>\n",
       "      <td>-31.93</td>\n",
       "      <td>72.63</td>\n",
       "      <td>64</td>\n",
       "      <td>75</td>\n",
       "      <td>19.46</td>\n",
       "    </tr>\n",
       "    <tr>\n",
       "      <td>8</td>\n",
       "      <td>Manilla</td>\n",
       "      <td>14.60</td>\n",
       "      <td>80.53</td>\n",
       "      <td>69</td>\n",
       "      <td>40</td>\n",
       "      <td>8.05</td>\n",
       "    </tr>\n",
       "  </tbody>\n",
       "</table>\n",
       "</div>"
      ],
      "text/plain": [
       "          city    lat   temp  humidity  clouds   wind\n",
       "0        Paris  48.85  43.56        81      90  17.22\n",
       "1       London  51.51  41.13        57       1  16.11\n",
       "2         Rome  34.26  45.07        36       1   5.82\n",
       "3    Hong Kong  22.29  70.41        88      20   4.70\n",
       "4      Bangkok  13.75  80.38        88      20   9.91\n",
       "5  New Orleans  29.95  61.86        39       1   8.05\n",
       "6       Merida  20.97  72.75        43       5   9.17\n",
       "7        Perth -31.93  72.63        64      75  19.46\n",
       "8      Manilla  14.60  80.53        69      40   8.05"
      ]
     },
     "execution_count": 32,
     "metadata": {},
     "output_type": "execute_result"
    }
   ],
   "source": []
  },
  {
   "cell_type": "code",
   "execution_count": null,
   "metadata": {},
   "outputs": [],
   "source": []
  }
 ],
 "metadata": {
  "kernelspec": {
   "display_name": "Python 3",
   "language": "python",
   "name": "python3"
  },
  "language_info": {
   "codemirror_mode": {
    "name": "ipython",
    "version": 3
   },
   "file_extension": ".py",
   "mimetype": "text/x-python",
   "name": "python",
   "nbconvert_exporter": "python",
   "pygments_lexer": "ipython3",
   "version": "3.7.4"
  }
 },
 "nbformat": 4,
 "nbformat_minor": 2
}
