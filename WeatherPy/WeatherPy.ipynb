{
 "cells": [
  {
   "cell_type": "code",
   "execution_count": 2,
   "metadata": {},
   "outputs": [],
   "source": [
    "import pandas as pd\n",
    "import matplotlib.pyplot as plt\n",
    "import requests\n",
    "import csv\n",
    "from scipy import stats\n",
    "from config1 import api_key"
   ]
  },
  {
   "cell_type": "code",
   "execution_count": 3,
   "metadata": {},
   "outputs": [],
   "source": [
    "url = \"http://api.openweathermap.org/data/2.5/weather?\"\n",
    "units = \"imperial\"\n",
    "\n",
    "query_url = f\"{url}appid={api_key}&units={units}&q=\""
   ]
  },
  {
   "cell_type": "code",
   "execution_count": 106,
   "metadata": {},
   "outputs": [
    {
     "name": "stdout",
     "output_type": "stream",
     "text": [
      "Currently processing Paris and pulling all weather data.\n",
      "Currently processing London and pulling all weather data.\n",
      "Currently processing Rome and pulling all weather data.\n",
      "Currently processing Hong Kong and pulling all weather data.\n",
      "Currently processing Bangkok and pulling all weather data.\n",
      "Currently processing New Orleans and pulling all weather data.\n",
      "Currently processing Merida and pulling all weather data.\n",
      "Currently processing Perth and pulling all weather data.\n",
      "Currently processing Manilla and pulling all weather data.\n",
      "Currently processing Lima and pulling all weather data.\n",
      "Currently processing Buenos Aires and pulling all weather data.\n",
      "Currently processing Jakarta and pulling all weather data.\n"
     ]
    }
   ],
   "source": [
    "cities = [\"Paris\", \"London\", \"Rome\", \"Hong Kong\", \"Bangkok\", \"New Orleans\", \"Merida\", \"Perth\", \"Manilla\", \"Lima\", \"Buenos Aires\", \"Jakarta\"]\n",
    "\n",
    "lat = []\n",
    "temp = []\n",
    "humid = []\n",
    "clouds = []\n",
    "wind = []\n",
    "\n",
    "for city in cities:\n",
    "    print(f\"Currently processing {city} and pulling all weather data.\")\n",
    "    response = requests.get(query_url + city).json()\n",
    "    lat.append(response[\"coord\"][\"lat\"])\n",
    "    temp.append(response[\"main\"][\"temp\"])\n",
    "    humid.append(response[\"main\"][\"humidity\"])\n",
    "    clouds.append(response[\"clouds\"][\"all\"])\n",
    "    wind.append(response[\"wind\"][\"speed\"])"
   ]
  },
  {
   "cell_type": "code",
   "execution_count": 107,
   "metadata": {},
   "outputs": [
    {
     "data": {
      "text/html": [
       "<div>\n",
       "<style scoped>\n",
       "    .dataframe tbody tr th:only-of-type {\n",
       "        vertical-align: middle;\n",
       "    }\n",
       "\n",
       "    .dataframe tbody tr th {\n",
       "        vertical-align: top;\n",
       "    }\n",
       "\n",
       "    .dataframe thead th {\n",
       "        text-align: right;\n",
       "    }\n",
       "</style>\n",
       "<table border=\"1\" class=\"dataframe\">\n",
       "  <thead>\n",
       "    <tr style=\"text-align: right;\">\n",
       "      <th></th>\n",
       "      <th>city</th>\n",
       "      <th>lat</th>\n",
       "      <th>temp</th>\n",
       "      <th>humidity</th>\n",
       "      <th>clouds</th>\n",
       "      <th>wind</th>\n",
       "    </tr>\n",
       "  </thead>\n",
       "  <tbody>\n",
       "    <tr>\n",
       "      <td>0</td>\n",
       "      <td>Paris</td>\n",
       "      <td>48.85</td>\n",
       "      <td>45.01</td>\n",
       "      <td>75</td>\n",
       "      <td>90</td>\n",
       "      <td>18.34</td>\n",
       "    </tr>\n",
       "    <tr>\n",
       "      <td>1</td>\n",
       "      <td>London</td>\n",
       "      <td>51.51</td>\n",
       "      <td>46.26</td>\n",
       "      <td>45</td>\n",
       "      <td>40</td>\n",
       "      <td>17.22</td>\n",
       "    </tr>\n",
       "    <tr>\n",
       "      <td>2</td>\n",
       "      <td>Rome</td>\n",
       "      <td>34.26</td>\n",
       "      <td>47.95</td>\n",
       "      <td>100</td>\n",
       "      <td>90</td>\n",
       "      <td>4.70</td>\n",
       "    </tr>\n",
       "    <tr>\n",
       "      <td>3</td>\n",
       "      <td>Hong Kong</td>\n",
       "      <td>22.29</td>\n",
       "      <td>66.70</td>\n",
       "      <td>72</td>\n",
       "      <td>40</td>\n",
       "      <td>23.04</td>\n",
       "    </tr>\n",
       "    <tr>\n",
       "      <td>4</td>\n",
       "      <td>Bangkok</td>\n",
       "      <td>13.75</td>\n",
       "      <td>83.55</td>\n",
       "      <td>83</td>\n",
       "      <td>20</td>\n",
       "      <td>10.29</td>\n",
       "    </tr>\n",
       "    <tr>\n",
       "      <td>5</td>\n",
       "      <td>New Orleans</td>\n",
       "      <td>29.95</td>\n",
       "      <td>73.69</td>\n",
       "      <td>69</td>\n",
       "      <td>90</td>\n",
       "      <td>13.87</td>\n",
       "    </tr>\n",
       "    <tr>\n",
       "      <td>6</td>\n",
       "      <td>Merida</td>\n",
       "      <td>20.97</td>\n",
       "      <td>83.66</td>\n",
       "      <td>54</td>\n",
       "      <td>40</td>\n",
       "      <td>18.34</td>\n",
       "    </tr>\n",
       "    <tr>\n",
       "      <td>7</td>\n",
       "      <td>Perth</td>\n",
       "      <td>-31.93</td>\n",
       "      <td>71.94</td>\n",
       "      <td>37</td>\n",
       "      <td>0</td>\n",
       "      <td>9.17</td>\n",
       "    </tr>\n",
       "    <tr>\n",
       "      <td>8</td>\n",
       "      <td>Manilla</td>\n",
       "      <td>14.60</td>\n",
       "      <td>79.27</td>\n",
       "      <td>69</td>\n",
       "      <td>20</td>\n",
       "      <td>9.17</td>\n",
       "    </tr>\n",
       "    <tr>\n",
       "      <td>9</td>\n",
       "      <td>Lima</td>\n",
       "      <td>-12.04</td>\n",
       "      <td>82.40</td>\n",
       "      <td>65</td>\n",
       "      <td>12</td>\n",
       "      <td>13.87</td>\n",
       "    </tr>\n",
       "    <tr>\n",
       "      <td>10</td>\n",
       "      <td>Buenos Aires</td>\n",
       "      <td>-34.61</td>\n",
       "      <td>90.81</td>\n",
       "      <td>51</td>\n",
       "      <td>0</td>\n",
       "      <td>5.82</td>\n",
       "    </tr>\n",
       "    <tr>\n",
       "      <td>11</td>\n",
       "      <td>Jakarta</td>\n",
       "      <td>-6.21</td>\n",
       "      <td>79.38</td>\n",
       "      <td>83</td>\n",
       "      <td>20</td>\n",
       "      <td>3.36</td>\n",
       "    </tr>\n",
       "  </tbody>\n",
       "</table>\n",
       "</div>"
      ],
      "text/plain": [
       "            city    lat   temp  humidity  clouds   wind\n",
       "0          Paris  48.85  45.01        75      90  18.34\n",
       "1         London  51.51  46.26        45      40  17.22\n",
       "2           Rome  34.26  47.95       100      90   4.70\n",
       "3      Hong Kong  22.29  66.70        72      40  23.04\n",
       "4        Bangkok  13.75  83.55        83      20  10.29\n",
       "5    New Orleans  29.95  73.69        69      90  13.87\n",
       "6         Merida  20.97  83.66        54      40  18.34\n",
       "7          Perth -31.93  71.94        37       0   9.17\n",
       "8        Manilla  14.60  79.27        69      20   9.17\n",
       "9           Lima -12.04  82.40        65      12  13.87\n",
       "10  Buenos Aires -34.61  90.81        51       0   5.82\n",
       "11       Jakarta  -6.21  79.38        83      20   3.36"
      ]
     },
     "execution_count": 107,
     "metadata": {},
     "output_type": "execute_result"
    }
   ],
   "source": [
    "responses_dict = {\n",
    "    \"city\": cities,\n",
    "    \"lat\": lat,\n",
    "    \"temp\": temp,\n",
    "    \"humidity\": humid,\n",
    "    \"clouds\": clouds,\n",
    "    \"wind\": wind\n",
    "}\n",
    "\n",
    "weather_data = pd.DataFrame(responses_dict)\n",
    "weather_data"
   ]
  },
  {
   "cell_type": "code",
   "execution_count": 108,
   "metadata": {},
   "outputs": [],
   "source": [
    "x_axis = weather_data[\"lat\"]\n",
    "y_axis_1 = weather_data[\"temp\"]\n",
    "y_axis_2 = weather_data[\"humidity\"]\n",
    "y_axis_3 = weather_data[\"clouds\"]\n",
    "y_axis_4 = weather_data[\"wind\"]"
   ]
  },
  {
   "cell_type": "code",
   "execution_count": 109,
   "metadata": {},
   "outputs": [
    {
     "data": {
      "image/png": "[encoded data removed]",
      "text/plain": [
       "<Figure size 432x288 with 1 Axes>"
      ]
     },
     "metadata": {
      "needs_background": "light"
     },
     "output_type": "display_data"
    },
    {
     "name": "stdout",
     "output_type": "stream",
     "text": [
      "Write a sentence or two explaining what the code is and analyzing.\n"
     ]
    },
    {
     "data": {
      "image/png": "[encoded data removed]",
      "text/plain": [
       "<Figure size 432x288 with 1 Axes>"
      ]
     },
     "metadata": {
      "needs_background": "light"
     },
     "output_type": "display_data"
    },
    {
     "name": "stdout",
     "output_type": "stream",
     "text": [
      "Write a sentence or two explaining what the code is and analyzing.\n"
     ]
    },
    {
     "data": {
      "image/png": "[encoded data removed]",
      "text/plain": [
       "<Figure size 432x288 with 1 Axes>"
      ]
     },
     "metadata": {
      "needs_background": "light"
     },
     "output_type": "display_data"
    },
    {
     "name": "stdout",
     "output_type": "stream",
     "text": [
      "Write a sentence or two explaining what the code is and analyzing.\n"
     ]
    },
    {
     "data": {
      "image/png": "[encoded data removed]",
      "text/plain": [
       "<Figure size 432x288 with 1 Axes>"
      ]
     },
     "metadata": {
      "needs_background": "light"
     },
     "output_type": "display_data"
    },
    {
     "name": "stdout",
     "output_type": "stream",
     "text": [
      "Write a sentence or two explaining what the code is and analyzing.\n"
     ]
    }
   ],
   "source": [
    "plt.scatter(x_axis, y_axis_1)\n",
    "plt.xlabel(\"Latitude\")\n",
    "plt.ylabel(\"Temperature\")\n",
    "plt.savefig(\"Images/Temp_Scatter_Plot\")\n",
    "plt.show()\n",
    "\n",
    "print(f\"Write a sentence or two explaining what the code is and analyzing.\")\n",
    "\n",
    "plt.scatter(x_axis, y_axis_2)\n",
    "plt.xlabel(\"Latitude\")\n",
    "plt.ylabel(\"Humidity\")\n",
    "plt.savefig(\"Images/Humid_Scatter_Plot\")\n",
    "plt.show()\n",
    "\n",
    "print(f\"Write a sentence or two explaining what the code is and analyzing.\")\n",
    "\n",
    "plt.scatter(x_axis, y_axis_3)\n",
    "plt.xlabel(\"Latitude\")\n",
    "plt.ylabel(\"Cloudiness\")\n",
    "plt.savefig(\"Images/Cloudiness_Scatter_Plot\")\n",
    "plt.show()\n",
    "\n",
    "print(f\"Write a sentence or two explaining what the code is and analyzing.\")\n",
    "\n",
    "plt.scatter(x_axis, y_axis_4)\n",
    "plt.xlabel(\"Latitude\")\n",
    "plt.ylabel(\"Wind Speed (MPH)\")\n",
    "plt.savefig(\"Images/Wind_Scatter_Plot\")\n",
    "plt.show()\n",
    "\n",
    "print(f\"Write a sentence or two explaining what the code is and analyzing.\")"
   ]
  },
  {
   "cell_type": "code",
   "execution_count": 110,
   "metadata": {},
   "outputs": [],
   "source": [
    "north = []\n",
    "south = []\n",
    "north_index = []\n",
    "south_index = []\n",
    "north_temps = []\n",
    "north_humid = []\n",
    "north_clouds = []\n",
    "north_wind = []\n",
    "south_temps = []\n",
    "south_humid = []\n",
    "south_clouds = []\n",
    "south_wind = []\n",
    "\n",
    "for value in lat:\n",
    "    if value > 0:\n",
    "        north.append(value)\n",
    "        north_index.append(lat.index(value))\n",
    "    else:\n",
    "        south.append(value)\n",
    "        south_index.append(lat.index(value))\n",
    "\n",
    "for value in north_index:\n",
    "    north_temps.append(temp[value])\n",
    "    north_humid.append(humid[value])\n",
    "    north_clouds.append(clouds[value])\n",
    "    north_wind.append(wind[value])\n",
    "\n",
    "for value in south_index:\n",
    "    south_temps.append(temp[value])\n",
    "    south_humid.append(humid[value])\n",
    "    south_clouds.append(clouds[value])\n",
    "    south_wind.append(wind[value])"
   ]
  },
  {
   "cell_type": "code",
   "execution_count": 111,
   "metadata": {},
   "outputs": [],
   "source": [
    "north_dict = {\n",
    "    \"lat\": north,\n",
    "    \"temp\": north_temps,\n",
    "    \"humidity\": north_humid,\n",
    "    \"cloudiness\": north_clouds,\n",
    "    \"wind\": north_wind\n",
    "}\n",
    "\n",
    "south_dict = {\n",
    "    \"lat\": south,\n",
    "    \"temp\": south_temps,\n",
    "    \"humidity\": south_humid,\n",
    "    \"cloudiness\": south_clouds,\n",
    "    \"wind\": south_wind\n",
    "}\n",
    "\n",
    "north_df = pd.DataFrame(north_dict)\n",
    "south_df = pd.DataFrame(south_dict)\n",
    "\n",
    "north_x_axis = north_df[\"lat\"]\n",
    "north_y_1 = north_df[\"temp\"]\n",
    "north_y_2 = north_df[\"humidity\"]\n",
    "north_y_3 = north_df[\"cloudiness\"]\n",
    "north_y_4 = north_df[\"wind\"]\n",
    "\n",
    "south_x_axis = south_df[\"lat\"]\n",
    "south_y_1 = south_df[\"temp\"]\n",
    "south_y_2 = south_df[\"humidity\"]\n",
    "south_y_3 = south_df[\"cloudiness\"]\n",
    "south_y_4 = south_df[\"wind\"]\n",
    "\n",
    "weather_data.to_csv(\"Weather_Data_Export.csv\", index=False, header=True)\n",
    "north_df.to_csv(\"Northern_Weather_Data.csv\", index=False, header=True)\n",
    "south_df.to_csv(\"Southern_Weather_Data.csv\", index=False, header=True)"
   ]
  },
  {
   "cell_type": "code",
   "execution_count": 112,
   "metadata": {},
   "outputs": [
    {
     "data": {
      "image/png": "[encoded data removed]",
      "text/plain": [
       "<Figure size 432x288 with 1 Axes>"
      ]
     },
     "metadata": {
      "needs_background": "light"
     },
     "output_type": "display_data"
    },
    {
     "name": "stdout",
     "output_type": "stream",
     "text": [
      "A short analysis\n"
     ]
    },
    {
     "data": {
      "image/png": "[encoded data removed]",
      "text/plain": [
       "<Figure size 432x288 with 1 Axes>"
      ]
     },
     "metadata": {
      "needs_background": "light"
     },
     "output_type": "display_data"
    },
    {
     "name": "stdout",
     "output_type": "stream",
     "text": [
      "A short analysis\n"
     ]
    },
    {
     "data": {
      "image/png": "[encoded data removed]",
      "text/plain": [
       "<Figure size 432x288 with 1 Axes>"
      ]
     },
     "metadata": {
      "needs_background": "light"
     },
     "output_type": "display_data"
    },
    {
     "name": "stdout",
     "output_type": "stream",
     "text": [
      "A short analysis\n"
     ]
    },
    {
     "data": {
      "image/png": "[encoded data removed]",
      "text/plain": [
       "<Figure size 432x288 with 1 Axes>"
      ]
     },
     "metadata": {
      "needs_background": "light"
     },
     "output_type": "display_data"
    },
    {
     "name": "stdout",
     "output_type": "stream",
     "text": [
      "A short analysis\n"
     ]
    },
    {
     "data": {
      "image/png": "[encoded data removed]",
      "text/plain": [
       "<Figure size 432x288 with 1 Axes>"
      ]
     },
     "metadata": {
      "needs_background": "light"
     },
     "output_type": "display_data"
    },
    {
     "name": "stdout",
     "output_type": "stream",
     "text": [
      "A short analysis\n"
     ]
    },
    {
     "data": {
      "image/png": "[encoded data removed]",
      "text/plain": [
       "<Figure size 432x288 with 1 Axes>"
      ]
     },
     "metadata": {
      "needs_background": "light"
     },
     "output_type": "display_data"
    },
    {
     "name": "stdout",
     "output_type": "stream",
     "text": [
      "A short analysis\n"
     ]
    },
    {
     "data": {
      "image/png": "[encoded data removed]",
      "text/plain": [
       "<Figure size 432x288 with 1 Axes>"
      ]
     },
     "metadata": {
      "needs_background": "light"
     },
     "output_type": "display_data"
    },
    {
     "name": "stdout",
     "output_type": "stream",
     "text": [
      "A short analysis\n"
     ]
    },
    {
     "data": {
      "image/png": "[encoded data removed]",
      "text/plain": [
       "<Figure size 432x288 with 1 Axes>"
      ]
     },
     "metadata": {
      "needs_background": "light"
     },
     "output_type": "display_data"
    },
    {
     "name": "stdout",
     "output_type": "stream",
     "text": [
      "A short analysis\n"
     ]
    }
   ],
   "source": [
    "(slope, intercept, rvalue, pvalue, stderr) = stats.linregress(north_x_axis, north_y_1)\n",
    "regress_values_1 = north_x_axis * slope + intercept\n",
    "plt.scatter(north_x_axis, north_y_1)\n",
    "plt.plot(north_x_axis,regress_values_1, \"r-\")\n",
    "plt.xlabel(\"Latitude\")\n",
    "plt.ylabel(\"Northern Temperature\")\n",
    "plt.savefig(\"Images/North_Temp_Linear_Regression\")\n",
    "plt.show()\n",
    "\n",
    "print(\"A short analysis\")\n",
    "\n",
    "(slope, intercept, rvalue, pvalue, stderr) = stats.linregress(north_x_axis, north_y_2)\n",
    "regress_values_1 = north_x_axis * slope + intercept\n",
    "plt.scatter(north_x_axis, north_y_2)\n",
    "plt.plot(north_x_axis,regress_values_1, \"r-\")\n",
    "plt.xlabel(\"Latitude\")\n",
    "plt.ylabel(\"Northern Humidity\")\n",
    "plt.savefig(\"Images/North_Humid_Linear_Regression\")\n",
    "plt.show()\n",
    "\n",
    "print(\"A short analysis\")\n",
    "\n",
    "(slope, intercept, rvalue, pvalue, stderr) = stats.linregress(north_x_axis, north_y_3)\n",
    "regress_values_1 = north_x_axis * slope + intercept\n",
    "plt.scatter(north_x_axis, north_y_3)\n",
    "plt.plot(north_x_axis,regress_values_1, \"r-\")\n",
    "plt.xlabel(\"Latitude\")\n",
    "plt.ylabel(\"Northern Cloudiness\")\n",
    "plt.savefig(\"Images/North_Clouds_Linear_Regression\")\n",
    "plt.show()\n",
    "\n",
    "print(\"A short analysis\")\n",
    "\n",
    "(slope, intercept, rvalue, pvalue, stderr) = stats.linregress(north_x_axis, north_y_4)\n",
    "regress_values_1 = north_x_axis * slope + intercept\n",
    "plt.scatter(north_x_axis, north_y_4)\n",
    "plt.plot(north_x_axis,regress_values_1, \"r-\")\n",
    "plt.xlabel(\"Latitude\")\n",
    "plt.ylabel(\"Northern Wind Speed (mph)\")\n",
    "plt.savefig(\"Images/North_Wind_Linear_Regression\")\n",
    "plt.show()\n",
    "\n",
    "print(\"A short analysis\")\n",
    "\n",
    "(slope, intercept, rvalue, pvalue, stderr) = stats.linregress(south_x_axis, south_y_1)\n",
    "regress_values_1 = south_x_axis * slope + intercept\n",
    "plt.scatter(south_x_axis, south_y_1)\n",
    "plt.plot(south_x_axis,regress_values_1, \"r-\")\n",
    "plt.xlabel(\"Latitude\")\n",
    "plt.ylabel(\"Southern Temperature\")\n",
    "plt.savefig(\"Images/South_Temp_Linear_Regression\")\n",
    "plt.show()\n",
    "\n",
    "print(\"A short analysis\")\n",
    "\n",
    "(slope, intercept, rvalue, pvalue, stderr) = stats.linregress(south_x_axis, south_y_2)\n",
    "regress_values_1 = south_x_axis * slope + intercept\n",
    "plt.scatter(south_x_axis, south_y_2)\n",
    "plt.plot(south_x_axis,regress_values_1, \"r-\")\n",
    "plt.xlabel(\"Latitude\")\n",
    "plt.ylabel(\"Southern Humidity\")\n",
    "plt.savefig(\"Images/South_Humid_Linear_Regression\")\n",
    "plt.show()\n",
    "\n",
    "print(\"A short analysis\")\n",
    "\n",
    "(slope, intercept, rvalue, pvalue, stderr) = stats.linregress(south_x_axis, south_y_3)\n",
    "regress_values_1 = south_x_axis * slope + intercept\n",
    "plt.scatter(south_x_axis, south_y_3)\n",
    "plt.plot(south_x_axis,regress_values_1, \"r-\")\n",
    "plt.xlabel(\"Latitude\")\n",
    "plt.ylabel(\"Southern Cloudiness\")\n",
    "plt.savefig(\"Images/South_Clouds_Linear_Regression\")\n",
    "plt.show()\n",
    "\n",
    "print(\"A short analysis\")\n",
    "\n",
    "(slope, intercept, rvalue, pvalue, stderr) = stats.linregress(south_x_axis, south_y_4)\n",
    "regress_values_1 = south_x_axis * slope + intercept\n",
    "plt.scatter(south_x_axis, south_y_4)\n",
    "plt.plot(south_x_axis,regress_values_1, \"r-\")\n",
    "plt.xlabel(\"Latitude\")\n",
    "plt.ylabel(\"Southern Wind Speed (mph)\")\n",
    "plt.savefig(\"Images/South_Wind_Linear_Regression\")\n",
    "plt.show()\n",
    "\n",
    "print(\"A short analysis\")"
   ]
  },
  {
   "cell_type": "code",
   "execution_count": null,
   "metadata": {},
   "outputs": [],
   "source": []
  }
 ],
 "metadata": {
  "kernelspec": {
   "display_name": "Python 3",
   "language": "python",
   "name": "python3"
  },
  "language_info": {
   "codemirror_mode": {
    "name": "ipython",
    "version": 3
   },
   "file_extension": ".py",
   "mimetype": "text/x-python",
   "name": "python",
   "nbconvert_exporter": "python",
   "pygments_lexer": "ipython3",
   "version": "3.7.4"
  }
 },
 "nbformat": 4,
 "nbformat_minor": 2
}
